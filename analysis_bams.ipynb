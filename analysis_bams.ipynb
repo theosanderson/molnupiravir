{
 "cells": [
  {
   "cell_type": "code",
   "execution_count": 27,
   "metadata": {},
   "outputs": [],
   "source": [
    "# open each file in \"results\"\n",
    "\n",
    "path = \"results\"\n",
    "import os\n",
    "files = os.listdir(path)\n",
    "files = [os.path.join(path, f) for f in files]\n",
    "\n",
    "rows = []\n",
    "\n",
    "for file in files:\n",
    "    handle = open(file, \"rt\")\n",
    "    id = file.split(\"/\")[-1].split(\".\")[0]\n",
    "    for line in handle:\n",
    "        columns = line.strip().split(\"\\t\")\n",
    "        pos = int(columns[0])\n",
    "        counts = [int(c) for c in columns[1:]]\n",
    "        id = file.split(\"/\")[-1].split(\".\")[0]\n",
    "        row = {\"id\": id, \"pos\": pos, \"A\": counts[0], \"C\": counts[1], \"G\": counts[2], \"T\": counts[3]}\n",
    "        rows.append(row)\n",
    "\n",
    "import pandas as pd\n",
    "df = pd.DataFrame(rows)\n",
    "\n",
    "\n"
   ]
  },
  {
   "cell_type": "code",
   "execution_count": 28,
   "metadata": {},
   "outputs": [],
   "source": [
    "file = \"./sra_metadata.csv\"\n",
    "cols = [\"id\",\"biosample\",\"sample_name\",\"drug\"]\n",
    "# no header, usecols to select columns\n",
    "meta = pd.read_csv(file, header=None, usecols=[0,1,2,3], names=cols)\n",
    "# sample name is study_name/detailed_sample_name/country, split these up\n",
    "meta[\"study_name\"] = meta[\"sample_name\"].str.split(\"/\").str[0]\n",
    "meta[\"detailed_sample_name\"] = meta[\"sample_name\"].str.split(\"/\").str[1]\n",
    "meta[\"country\"] = meta[\"sample_name\"].str.split(\"/\").str[2]\n",
    "\n",
    "# detailed sample name is individualid_day, split these up\n",
    "meta[\"individualid\"] = meta[\"detailed_sample_name\"].str.split(\"_\").str[0]\n",
    "meta[\"day\"] = meta[\"detailed_sample_name\"].str.split(\"_\").str[1]\n",
    "\n",
    "# drop detailed sample name\n",
    "meta = meta.drop(columns=[\"detailed_sample_name\"])"
   ]
  },
  {
   "cell_type": "code",
   "execution_count": 29,
   "metadata": {},
   "outputs": [],
   "source": [
    "\n",
    "# find positions that occur more than once and remove them\n",
    "\n",
    "df.groupby(\"pos\").filter(lambda x: len(x) == 1)\n",
    "\n",
    "def create_string_from_row(row):\n",
    "    total = sum(row[[\"A\", \"C\", \"G\", \"T\"]])\n",
    "    ratioed = row[[\"A\", \"C\", \"G\", \"T\"]]/total\n",
    "    # print any bases that are > 0.1\n",
    "    bases = [\"A\", \"C\", \"G\", \"T\"]\n",
    "    bases = [b for b in bases if ratioed[b] > 0.1]\n",
    "    return \"\".join(bases)\n",
    "\n",
    "df[\"bases\"] = df.apply(create_string_from_row, axis=1)\n",
    "\n",
    "df = df.merge(meta, on=\"id\")\n",
    "\n",
    "        "
   ]
  },
  {
   "cell_type": "code",
   "execution_count": 30,
   "metadata": {},
   "outputs": [
    {
     "data": {
      "text/plain": [
       "drug          bases\n",
       "molnupiravir  CT       293\n",
       "              AG       217\n",
       "              GT       141\n",
       "              AC        28\n",
       "              CG        17\n",
       "              AT        16\n",
       "              ACT        1\n",
       "placebo       GT       121\n",
       "              CT       104\n",
       "              AG        67\n",
       "              AC        21\n",
       "              AT        18\n",
       "              CG        14\n",
       "              AGT        1\n",
       "Name: bases, dtype: int64"
      ]
     },
     "execution_count": 30,
     "metadata": {},
     "output_type": "execute_result"
    }
   ],
   "source": [
    "d5 = df[df['day']=='d5']\n",
    "# aggregate \"bases\" by \"drug\"\n",
    "d5.groupby(\"drug\")[\"bases\"].value_counts()"
   ]
  },
  {
   "cell_type": "code",
   "execution_count": null,
   "metadata": {},
   "outputs": [],
   "source": [
    "from Bio import SeqIO\n",
    "\n",
    "# read in the reference sequence\n",
    "ref = SeqIO.read(\"data/NC_045512.2.fasta\", \"fasta\")"
   ]
  },
  {
   "cell_type": "code",
   "execution_count": null,
   "metadata": {},
   "outputs": [],
   "source": []
  },
  {
   "cell_type": "code",
   "execution_count": null,
   "metadata": {},
   "outputs": [],
   "source": []
  },
  {
   "cell_type": "code",
   "execution_count": null,
   "metadata": {},
   "outputs": [],
   "source": []
  }
 ],
 "metadata": {
  "kernelspec": {
   "display_name": "Python 3.8.6 ('nextstrain')",
   "language": "python",
   "name": "python3"
  },
  "language_info": {
   "codemirror_mode": {
    "name": "ipython",
    "version": 3
   },
   "file_extension": ".py",
   "mimetype": "text/x-python",
   "name": "python",
   "nbconvert_exporter": "python",
   "pygments_lexer": "ipython3",
   "version": "3.8.6"
  },
  "orig_nbformat": 4,
  "vscode": {
   "interpreter": {
    "hash": "ed9fb68640e5f6c1e5873b4a3f2f87a61c72f5f8fbb68d62d1f9c0014e667be1"
   }
  }
 },
 "nbformat": 4,
 "nbformat_minor": 2
}
